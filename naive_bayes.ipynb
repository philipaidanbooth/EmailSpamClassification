{
 "cells": [
  {
   "cell_type": "markdown",
   "metadata": {},
   "source": [
    "**Philip Booth**\n",
    "\n",
    "CS 251: Data Analysis and Visualization\n",
    "\n",
    "Fall 2024\n",
    "\n",
    "# Project 6 | Supervised Learning"
   ]
  },
  {
   "cell_type": "code",
   "execution_count": 79,
   "metadata": {},
   "outputs": [
    {
     "name": "stdout",
     "output_type": "stream",
     "text": [
      "The autoreload extension is already loaded. To reload it, use:\n",
      "  %reload_ext autoreload\n"
     ]
    }
   ],
   "source": [
    "import numpy as np\n",
    "import matplotlib.pyplot as plt\n",
    "import pandas as pd\n",
    "\n",
    "plt.style.use(['seaborn-v0_8-colorblind', 'seaborn-v0_8-darkgrid'])\n",
    "plt.rcParams.update({'font.size': 20})\n",
    "\n",
    "np.set_printoptions(suppress=True, precision=5)\n",
    "\n",
    "# Automatically reload external modules\n",
    "%load_ext autoreload\n",
    "%autoreload 2"
   ]
  },
  {
   "cell_type": "markdown",
   "metadata": {},
   "source": [
    "## Task 4: Naive Bayes Classifier\n",
    "\n",
    "After finishing your email preprocessing pipeline, implement the one other supervised learning algorithm we we will use to classify email, **Naive Bayes**."
   ]
  },
  {
   "cell_type": "markdown",
   "metadata": {},
   "source": [
    "### 4a. Implement Naive Bayes\n",
    "\n",
    "In `naive_bayes.py`, implement the following methods:\n",
    "- Constructor\n",
    "- get methods\n",
    "- `train(data, y)`: Train the Naive Bayes classifier so that it records the \"statistics\" of the training set: class priors (i.e. how likely an email is in the training set to be spam or ham?) and the class likelihoods (the probability of a word appearing in each class — spam or ham).\n",
    "- `predict(data)`: Combine the class likelihoods and priors to compute the posterior distribution. The predicted class for a test sample is the class that yields the highest posterior probability.\n",
    "\n",
    "\n",
    "#### Bayes rule ingredients: Priors and likelihood (`train`)\n",
    "\n",
    "To compute class predictions (probability that a test example belong to either spam or ham classes), we need to evaluate **Bayes Rule**. This means computing the priors and likelihoods based on the training data.\n",
    "\n",
    "**Prior:** $$P_c = \\frac{N_c}{N}$$ where $P_c$ is the prior for class $c$ (spam or ham), $N_c$ is the number of training samples that belong to class $c$ and $N$ is the total number of training samples.\n",
    "\n",
    "**Likelihood:** $$L_{c,w} = \\frac{T_{c,w} + 1}{T_{c} + M}$$ where\n",
    "- $L_{c,w}$ is the likelihood that word $w$ belongs to class $c$ (*i.e. what we are solving for*)\n",
    "- $T_{c,w}$ is the total count of **word $w$** in emails that are only in class $c$ (*either spam or ham*)\n",
    "- $T_{c}$ is the total count of **all words** that appear in emails of the class $c$ (*total number of words in all spam emails or total number of words in all ham emails*)\n",
    "- $M$ is the number of features (*number of top words*).\n",
    "\n",
    "#### Bayes rule ingredients: Posterior (`predict`)\n",
    "\n",
    "To make predictions, we now combine the prior and likelihood to get the posterior:\n",
    "\n",
    "**Log Posterior:** $$Log(\\text{Post}_{i, c}) = Log(P_c) + \\sum_{j \\in J_i}x_{i,j}Log(L_{c,j})$$\n",
    "\n",
    " where\n",
    "- $\\text{Post}_{i,c}$ is the posterior for class $c$ for test sample $i$(*i.e. evidence that email $i$ is spam or ham*). We solve for its logarithm.\n",
    "- $Log(P_c)$ is the logarithm of the prior for class $c$.\n",
    "- $x_{i,j}$ is the number of times the jth word appears in the ith email.\n",
    "- $Log(L_{c,j})$: is the log-likelihood of the jth word in class $c$."
   ]
  },
  {
   "cell_type": "code",
   "execution_count": 80,
   "metadata": {},
   "outputs": [],
   "source": [
    "from naive_bayes import NaiveBayes"
   ]
  },
  {
   "cell_type": "markdown",
   "metadata": {},
   "source": [
    "#### Test `train`\n",
    "\n",
    "###### Class priors and likelihoods\n",
    "\n",
    "The following test should be used only if storing the class priors and likelihoods directly."
   ]
  },
  {
   "cell_type": "code",
   "execution_count": 81,
   "metadata": {},
   "outputs": [
    {
     "name": "stdout",
     "output_type": "stream",
     "text": [
      "Your class priors are: [-1.27297 -1.51413 -1.13943 -1.7148 ]\n",
      "and should be          [0.28 0.22 0.32 0.18].\n",
      "Your class likelihoods shape is (4, 6) and should be (4, 6).\n",
      "Your likelihoods are:\n",
      "[[-1.83274 -1.89109 -1.57069 -1.65516 -1.95306 -1.90841]\n",
      " [-2.13211 -1.78255 -1.71958 -1.77756 -1.71023 -1.6918 ]\n",
      " [-1.77881 -1.75342 -1.93136 -1.94266 -1.67217 -1.70448]\n",
      " [-1.82475 -1.77132 -1.84321 -1.96879 -1.66192 -1.70968]]\n",
      "and should be\n",
      "[[0.15997 0.15091 0.2079  0.19106 0.14184 0.14832]\n",
      " [0.11859 0.16821 0.17914 0.16905 0.18082 0.18419]\n",
      " [0.16884 0.17318 0.14495 0.14332 0.18784 0.18187]\n",
      " [0.16126 0.17011 0.15831 0.13963 0.18977 0.18092]]\n"
     ]
    }
   ],
   "source": [
    "num_test_classes = 4\n",
    "np.random.seed(0)\n",
    "data_test = np.random.randint(low=0, high=20, size=(100, 6))\n",
    "y_test = np.random.randint(low=0, high=num_test_classes, size=(100,))\n",
    "\n",
    "nbc = NaiveBayes(num_classes=num_test_classes)\n",
    "nbc.train(data_test, y_test)\n",
    "\n",
    "print(f'Your class priors are: {nbc.get_priors()}\\nand should be          [0.28 0.22 0.32 0.18].')\n",
    "print(f'Your class likelihoods shape is {nbc.get_likelihoods().shape} and should be (4, 6).')\n",
    "print(f'Your likelihoods are:\\n{nbc.get_likelihoods()}')\n",
    "\n",
    "print('and should be')\n",
    "print('''[[0.15997 0.15091 0.2079  0.19106 0.14184 0.14832]\n",
    " [0.11859 0.16821 0.17914 0.16905 0.18082 0.18419]\n",
    " [0.16884 0.17318 0.14495 0.14332 0.18784 0.18187]\n",
    " [0.16126 0.17011 0.15831 0.13963 0.18977 0.18092]]''')"
   ]
  },
  {
   "cell_type": "markdown",
   "metadata": {},
   "source": [
    "###### Log of class priors and likelihoods\n",
    "\n",
    "This test should be used only if storing the log of the class priors and likelihoods."
   ]
  },
  {
   "cell_type": "code",
   "execution_count": 82,
   "metadata": {},
   "outputs": [
    {
     "name": "stdout",
     "output_type": "stream",
     "text": [
      "Your log class priors are: [-1.27297 -1.51413 -1.13943 -1.7148 ]\n",
      "and should be              [-1.27297 -1.51413 -1.13943 -1.7148 ].\n",
      "Your log class likelihoods shape is (4, 6) and should be (4, 6).\n",
      "Your log likelihoods are:\n",
      "[[-1.83274 -1.89109 -1.57069 -1.65516 -1.95306 -1.90841]\n",
      " [-2.13211 -1.78255 -1.71958 -1.77756 -1.71023 -1.6918 ]\n",
      " [-1.77881 -1.75342 -1.93136 -1.94266 -1.67217 -1.70448]\n",
      " [-1.82475 -1.77132 -1.84321 -1.96879 -1.66192 -1.70968]]\n",
      "and should be\n",
      "[[-1.83274 -1.89109 -1.57069 -1.65516 -1.95306 -1.90841]\n",
      " [-2.13211 -1.78255 -1.71958 -1.77756 -1.71023 -1.6918 ]\n",
      " [-1.77881 -1.75342 -1.93136 -1.94266 -1.67217 -1.70448]\n",
      " [-1.82475 -1.77132 -1.84321 -1.96879 -1.66192 -1.70968]]\n"
     ]
    }
   ],
   "source": [
    "num_test_classes = 4\n",
    "np.random.seed(0)\n",
    "data_test = np.random.randint(low=0, high=20, size=(100, 6))\n",
    "y_test = np.random.randint(low=0, high=num_test_classes, size=(100,))\n",
    "\n",
    "nbc = NaiveBayes(num_classes=num_test_classes)\n",
    "nbc.train(data_test, y_test)\n",
    "\n",
    "print(f'Your log class priors are: {nbc.get_priors()}\\nand should be              [-1.27297 -1.51413 -1.13943 -1.7148 ].')\n",
    "print(f'Your log class likelihoods shape is {nbc.get_likelihoods().shape} and should be (4, 6).')\n",
    "print(f'Your log likelihoods are:\\n{nbc.get_likelihoods()}')\n",
    "\n",
    "\n",
    "print('and should be')\n",
    "print('''[[-1.83274 -1.89109 -1.57069 -1.65516 -1.95306 -1.90841]\n",
    " [-2.13211 -1.78255 -1.71958 -1.77756 -1.71023 -1.6918 ]\n",
    " [-1.77881 -1.75342 -1.93136 -1.94266 -1.67217 -1.70448]\n",
    " [-1.82475 -1.77132 -1.84321 -1.96879 -1.66192 -1.70968]]''')"
   ]
  },
  {
   "cell_type": "markdown",
   "metadata": {},
   "source": [
    "#### Test `predict`"
   ]
  },
  {
   "cell_type": "code",
   "execution_count": 83,
   "metadata": {},
   "outputs": [
    {
     "name": "stdout",
     "output_type": "stream",
     "text": [
      "Your predicted classes are\n",
      "[2 0 0 3 0 3 2 1 2 3 1 0 0 1 0]\n",
      "and should be\n",
      "[2 0 0 3 0 3 2 1 2 3 1 0 0 1 0]]\n"
     ]
    }
   ],
   "source": [
    "num_test_classes = 4\n",
    "np.random.seed(0)\n",
    "data_train = np.random.randint(low=0, high=15, size=(100, 10))\n",
    "data_test = np.random.randint(low=0, high=15, size=(15, 10))\n",
    "y_test = np.random.randint(low=0, high=num_test_classes, size=(100,))\n",
    "\n",
    "nbc = NaiveBayes(num_classes=num_test_classes)\n",
    "nbc.train(data_train, y_test)\n",
    "test_y_pred = nbc.predict(data_test)\n",
    "\n",
    "print(f'Your predicted classes are\\n{test_y_pred}\\nand should be\\n[2 0 0 3 0 3 2 1 2 3 1 0 0 1 0]]')"
   ]
  },
  {
   "cell_type": "markdown",
   "metadata": {},
   "source": [
    "### 4b. Spam filtering\n",
    "\n",
    "Use your Naive Bayes classifier to predict whether emails in the Enron email dataset are spam! Start by running the following code that uses `np.load` to load in the train/test split that you created last week.\n"
   ]
  },
  {
   "cell_type": "code",
   "execution_count": 84,
   "metadata": {},
   "outputs": [],
   "source": [
    "x_train = np.load('data/email_train_x.npy')\n",
    "y_train = np.load('data/email_train_y.npy')\n",
    "inds_train = np.load('data/email_train_inds.npy')\n",
    "x_test = np.load('data/email_test_x.npy')\n",
    "y_test = np.load('data/email_test_y.npy')\n",
    "inds_test = np.load('data/email_test_inds.npy')"
   ]
  },
  {
   "cell_type": "code",
   "execution_count": 85,
   "metadata": {},
   "outputs": [
    {
     "data": {
      "text/plain": [
       "0.8718773946360153"
      ]
     },
     "execution_count": 85,
     "metadata": {},
     "output_type": "execute_result"
    }
   ],
   "source": [
    "nb_classifier = NaiveBayes(2)\n",
    "\n",
    "nb_classifier.train(x_train,y_train)\n",
    "y_pred = nb_classifier.predict(x_test)\n",
    "\n",
    "nb_classifier.accuracy(y_test,y_pred)\n"
   ]
  },
  {
   "cell_type": "markdown",
   "metadata": {},
   "source": [
    "### 4c. Questions\n",
    "\n",
    "**Question 7:** What accuracy do you get on the test set with Naive Bayes. It should be roughly 89%."
   ]
  },
  {
   "cell_type": "markdown",
   "metadata": {},
   "source": [
    "**Answer 7:**\n",
    "I got 87.18%"
   ]
  },
  {
   "cell_type": "markdown",
   "metadata": {},
   "source": [
    "### 4d. Confusion matrix\n",
    "\n",
    "To get a better sense of the errors that the Naive Bayes classifier makes, implement the `confusion_matrix` method in `Classifer` then create a confusion matrix of the spam classification results. Assign the confusion matrix below to the variable `conf_matrix_nb` and run the code below to help test your confusion matrix."
   ]
  },
  {
   "cell_type": "code",
   "execution_count": 86,
   "metadata": {},
   "outputs": [
    {
     "name": "stdout",
     "output_type": "stream",
     "text": [
      "[[3052.  233.]\n",
      " [ 603. 2637.]]\n"
     ]
    }
   ],
   "source": [
    "conf_matrix_nb = NaiveBayes.confusion_matrix(nb_classifier,y_test,y_pred)\n",
    "\n",
    "print(conf_matrix_nb)"
   ]
  },
  {
   "cell_type": "markdown",
   "metadata": {},
   "source": [
    "#### Test confusion matrix"
   ]
  },
  {
   "cell_type": "code",
   "execution_count": 87,
   "metadata": {},
   "outputs": [
    {
     "name": "stdout",
     "output_type": "stream",
     "text": [
      "The total number of entries in your confusion matrix is 6525 and should be 6525.\n",
      "The total number of ham entries in your confusion matrix is 3285 and should be 3285.\n",
      "The total number of spam entries in your confusion matrix is 3240 and should be 3240.\n"
     ]
    }
   ],
   "source": [
    "print(f'The total number of entries in your confusion matrix is {int(conf_matrix_nb.sum())} and should be {len(y_test)}.')\n",
    "print(f'The total number of ham entries in your confusion matrix is {int(conf_matrix_nb[0].sum())} and should be {int(np.sum(y_test == 0))}.')\n",
    "print(f'The total number of spam entries in your confusion matrix is {int(conf_matrix_nb[1].sum())} and should be {int(np.sum(y_test == 1))}.')"
   ]
  },
  {
   "cell_type": "markdown",
   "metadata": {},
   "source": [
    "### 4e. Questions\n",
    "\n",
    "**Question 8:** Interpret the confusion matrix, using the convention that positive detection means spam (*e.g. a false positive means classifying a ham email as spam*). What types of errors are made more frequently by the classifier? What does this mean (*i.e. X (spam/ham) is more likely to be classified than Y (spam/ham) than the other way around*)?"
   ]
  },
  {
   "cell_type": "markdown",
   "metadata": {},
   "source": [
    "**Answer 8:** The error made most frequently is the false positive classification of ham as spam. My confusion matrix tells me that ham was misclassified 603 times. Spam is misclassified 233 time which is not as bad. From our confusion matrix we can conclude that ham is more likely to be misclassified as spam. In a real world environment this is likely much worse because if an important email is hidden in the spam folder then that could put you in a bad position.\n"
   ]
  },
  {
   "cell_type": "markdown",
   "metadata": {},
   "source": [
    "## Task 5: Comparison with KNN"
   ]
  },
  {
   "cell_type": "code",
   "execution_count": 88,
   "metadata": {},
   "outputs": [],
   "source": [
    "from knn import KNN"
   ]
  },
  {
   "cell_type": "markdown",
   "metadata": {},
   "source": [
    "### 5a. KNN spam email classification accuracy\n",
    "Run a similar analysis to what you did with Naive Bayes above. When computing accuracy on the test set, you may want to reduce the size of the test set (e.g. to the first 500 emails in the test set)."
   ]
  },
  {
   "cell_type": "code",
   "execution_count": 89,
   "metadata": {},
   "outputs": [],
   "source": [
    "x_train = np.load('data/email_train_x.npy')\n",
    "y_train = np.load('data/email_train_y.npy')\n",
    "inds_train= np.load('data/email_train_inds.npy')\n",
    "x_test = np.load('data/email_test_x.npy')\n",
    "y_test = np.load('data/email_test_y.npy')\n",
    "inds_test = np.load('data/email_test_inds.npy')"
   ]
  },
  {
   "cell_type": "code",
   "execution_count": 90,
   "metadata": {},
   "outputs": [
    {
     "name": "stdout",
     "output_type": "stream",
     "text": [
      "(6525,)\n"
     ]
    },
    {
     "data": {
      "text/plain": [
       "0.866"
      ]
     },
     "execution_count": 90,
     "metadata": {},
     "output_type": "execute_result"
    }
   ],
   "source": [
    "knn_classifier = KNN(2)\n",
    "print(y_test.shape)\n",
    "knn_classifier.train(x_train,y_train)\n",
    "x_test_reduce = x_test[:500]\n",
    "y_test_reduce = y_test[:500]\n",
    "knn_y_pred = knn_classifier.predict(x_test_reduce,2)\n",
    "knn_classifier.accuracy(y_test_reduce,knn_y_pred)"
   ]
  },
  {
   "cell_type": "markdown",
   "metadata": {},
   "source": [
    "### 5b. KNN spam email confusion matrix\n",
    "\n",
    "In the cell below, create a confusion matrix for your KNN classifier results"
   ]
  },
  {
   "cell_type": "code",
   "execution_count": 91,
   "metadata": {},
   "outputs": [
    {
     "name": "stdout",
     "output_type": "stream",
     "text": [
      "[[229.  14.]\n",
      " [ 53. 204.]]\n"
     ]
    }
   ],
   "source": [
    "conf_matrix_knn = knn_classifier.confusion_matrix(y_test[:500],knn_y_pred[:500])\n",
    "print(conf_matrix_knn)"
   ]
  },
  {
   "cell_type": "markdown",
   "metadata": {},
   "source": [
    "### 5c. Questions"
   ]
  },
  {
   "cell_type": "markdown",
   "metadata": {},
   "source": [
    "**Question 9:** What accuracy did you get on the test set (potentially reduced in size)?\n",
    "\n",
    "\n",
    "**Question 10:** How does the confusion matrix compare to that obtained by Naive Bayes (*If you reduced the test set size, keep that in mind*)?\n",
    "\n",
    "**Question 11:** What is the primary benefit and downside of KNN that we observe here compared to Naive Bayes?\n",
    "\n",
    "**Question 12:** When potentially reducing the size of the test set here, why is it important that we shuffled our train and test set?"
   ]
  },
  {
   "cell_type": "markdown",
   "metadata": {},
   "source": [
    "**Answer 9:** \n",
    "KNN Accuracy for 500 samples: .866 \n",
    "\n",
    "**Answer 10:**\n",
    "I did reduce the size so the values in my confusion matrix are quite different from that of the naive bayes cmat. However, the ratios between different boxes still possess strong similarity to the naive bayes confusion matrix. The corresponding accuracy of the KNN classifier was 86.6 which is nearly the same as the 87% accuracy for the naive bayes. Note that the KNN predicted the model on fewer points than naive bayes.\n",
    "\n",
    "**Answer 11:** \n",
    "Pro: KNN has an easier training process to naive bayes. Coming from an implementation standpoint I would say the train method for naive bayes took the longest to code, versus knn being quite easy to code. Con: KNN has a slow prediction runtime so I had to reduce the data set. Even then it was pretty slow compared to NB.\n",
    "\n",
    "**Answer 12:** \n",
    "It's important that we shuffled our train and test set because if we were to split test and train by first 80% of data to train and last 20% to test, then that data would have been taken sequentially. The first 80% of points to train versus the last 20% allocated to the test. By shuffling we guarantee the data randomly distributed so both the training and testing model are representative of the entire data set. "
   ]
  },
  {
   "cell_type": "markdown",
   "metadata": {},
   "source": [
    "## Extensions\n",
    "\n",
    "### a. Reminder: AI Policy\n",
    "\n",
    "The goal of extensions is to learn and create something new beyond the base project that excites you. To serve this goal and out of fairness to your hardworking classmates, **generative AI (e.g. ChatGPT, Copilot, etc.) is strongly discouraged.** If you do use it, you should use it either at the micro scale (e.g. to better understand syntax of a particular command) or at the outline level (e.g. to get a basic idea).\n",
    "\n",
    "### b. Guidelines\n",
    "\n",
    "To receive credit for any extension, you must:\n",
    "1. Not modify / prevent any code from the core project from working (e.g. make a copy before changing). In other words, **the notebook test code should still work!**\n",
    "2. **You must describe what you did and what you found in detail**. This includes a summary of parameter values used in your simulations.\n",
    "3. Include (*labeled!*) plots and/or numbers to present your results.\n",
    "4. Write up your extensions below or in a separate notebook.\n",
    "5. Give kudos to all sources, including anyone that you consulted.\n",
    "\n",
    "### c. Suggestions\n",
    "\n",
    "**Rule of thumb: one deep, thorough extension is worth more than several quick, shallow extensions!**\n",
    "\n",
    "The ideas below are **suggested** extensions — feel free to go in another direction related to this project that is not listed!"
   ]
  },
  {
   "cell_type": "markdown",
   "metadata": {},
   "source": [
    "### 2. Feature size\n",
    "\n",
    "- Explore how the number of selected features for the email dataset influences accuracy and runtime performance."
   ]
  },
  {
   "cell_type": "markdown",
   "metadata": {},
   "source": [
    "I would measure impact of increasing the number of data points included in the model in naive bayes versus knn. We know that Knn takes longer to train but slower to predict, while Naive bayes is longer to train but faster to predict. Naive bayes is quicker but by how much. For this extension I will examine runtimes of increasingly more data points included, comparing accuracies as well."
   ]
  },
  {
   "cell_type": "code",
   "execution_count": 92,
   "metadata": {},
   "outputs": [
    {
     "name": "stdout",
     "output_type": "stream",
     "text": [
      "0.89\n",
      "0.033494125003926456\n"
     ]
    }
   ],
   "source": [
    "import timeit\n",
    "start_time100 = timeit.default_timer()\n",
    "#nb_classifier = NaiveBayes(2)\n",
    "nb_classifier.train(x_train,y_train)\n",
    "x_test_reduce100 = x_test[:100]\n",
    "y_test_reduce100 = y_test[:100]\n",
    "y_pred = nb_classifier.predict(x_test_reduce100)\n",
    "print(nb_classifier.accuracy(y_test_reduce100,y_pred))\n",
    "elapsed100 = timeit.default_timer() - start_time100\n",
    "print(elapsed100)"
   ]
  },
  {
   "cell_type": "code",
   "execution_count": 93,
   "metadata": {},
   "outputs": [
    {
     "name": "stdout",
     "output_type": "stream",
     "text": [
      "0.866\n",
      "0.023662000021431595\n"
     ]
    }
   ],
   "source": [
    "start_time200 = timeit.default_timer()\n",
    "#nb_classifier = NaiveBayes(2)\n",
    "nb_classifier.train(x_train,y_train)\n",
    "x_test_reduce200 = x_test[:1000]\n",
    "y_test_reduce200 = y_test[:1000]\n",
    "y_pred = nb_classifier.predict(x_test_reduce200)\n",
    "print(nb_classifier.accuracy(y_test_reduce200,y_pred))\n",
    "elapsed200 = timeit.default_timer() - start_time200\n",
    "print(elapsed200)"
   ]
  },
  {
   "cell_type": "code",
   "execution_count": 94,
   "metadata": {},
   "outputs": [
    {
     "name": "stdout",
     "output_type": "stream",
     "text": [
      "0.8702\n",
      "0.03893020795658231\n"
     ]
    }
   ],
   "source": [
    "start_time300 = timeit.default_timer()\n",
    "#nb_classifier = NaiveBayes(2)\n",
    "nb_classifier.train(x_train,y_train)\n",
    "x_test_reduce300 = x_test[:5000]\n",
    "y_test_reduce300 = y_test[:5000]\n",
    "y_pred = nb_classifier.predict(x_test_reduce300)\n",
    "print(nb_classifier.accuracy(y_test_reduce300,y_pred))\n",
    "elapsed300 = timeit.default_timer() - start_time300\n",
    "print(elapsed300)\n"
   ]
  },
  {
   "cell_type": "code",
   "execution_count": 95,
   "metadata": {},
   "outputs": [
    {
     "name": "stdout",
     "output_type": "stream",
     "text": [
      "0.8718773946360153\n",
      "0.027162957994733006\n"
     ]
    }
   ],
   "source": [
    "start_time400 = timeit.default_timer()\n",
    "#nb_classifier = NaiveBayes(2)\n",
    "nb_classifier.train(x_train,y_train)\n",
    "x_test_reduce400 = x_test[:10000]\n",
    "y_test_reduce400 = y_test[:10000]\n",
    "y_pred = nb_classifier.predict(x_test_reduce400)\n",
    "print(nb_classifier.accuracy(y_test_reduce400,y_pred))\n",
    "elapsed400 = timeit.default_timer() - start_time400\n",
    "print(elapsed400)\n"
   ]
  },
  {
   "cell_type": "code",
   "execution_count": 96,
   "metadata": {},
   "outputs": [
    {
     "name": "stdout",
     "output_type": "stream",
     "text": [
      "0.8718773946360153\n",
      "0.07640149997314438\n"
     ]
    }
   ],
   "source": [
    "#nb_classifier = NaiveBayes(2)\n",
    "start_time500 = timeit.default_timer()\n",
    "nb_classifier.train(x_train,y_train)\n",
    "x_test_reduce500 = x_test[:15000]\n",
    "y_test_reduce500 = y_test[:15000]\n",
    "y_pred = nb_classifier.predict(x_test_reduce500)\n",
    "print(nb_classifier.accuracy(y_test_reduce500,y_pred))\n",
    "elapsed500 = timeit.default_timer() - start_time500\n",
    "print(elapsed500)"
   ]
  },
  {
   "cell_type": "markdown",
   "metadata": {},
   "source": [
    "As we can see from running these chunks with naive bayes classifying from 100 points up to 15000 points the difference in time is minimal as one increases the data points to be classified. \n",
    "\n",
    "Moving on to knn lets see what happens as we increase classification from 100-500 points"
   ]
  },
  {
   "cell_type": "code",
   "execution_count": 97,
   "metadata": {},
   "outputs": [
    {
     "name": "stdout",
     "output_type": "stream",
     "text": [
      "0.9\n",
      "1.2512249579885975\n"
     ]
    }
   ],
   "source": [
    "import timeit\n",
    "start_time100 = timeit.default_timer()\n",
    "knn_classifier = KNN(2)\n",
    "knn_classifier.train(x_train,y_train)\n",
    "x_test_reduce100 = x_test[:100]\n",
    "y_test_reduce100 = y_test[:100]\n",
    "y_pred = knn_classifier.predict(x_test_reduce100,2)\n",
    "print(nb_classifier.accuracy(y_test_reduce100,y_pred))\n",
    "elapsed100 = timeit.default_timer() - start_time100\n",
    "print(elapsed100)"
   ]
  },
  {
   "cell_type": "code",
   "execution_count": 98,
   "metadata": {},
   "outputs": [
    {
     "name": "stdout",
     "output_type": "stream",
     "text": [
      "0.87\n",
      "2.2070379589567892\n"
     ]
    }
   ],
   "source": [
    "start_time200 = timeit.default_timer()\n",
    "knn_classifier.train(x_train,y_train)\n",
    "x_test_reduce200 = x_test[:200]\n",
    "y_test_reduce200 = y_test[:200]\n",
    "y_pred = knn_classifier.predict(x_test_reduce200,2)\n",
    "print(nb_classifier.accuracy(y_test_reduce200,y_pred))\n",
    "elapsed200 = timeit.default_timer() - start_time200\n",
    "print(elapsed200)"
   ]
  },
  {
   "cell_type": "code",
   "execution_count": 99,
   "metadata": {},
   "outputs": [
    {
     "name": "stdout",
     "output_type": "stream",
     "text": [
      "0.87\n",
      "4.00452520797262\n"
     ]
    }
   ],
   "source": [
    "start_time300 = timeit.default_timer()\n",
    "knn_classifier.train(x_train,y_train)\n",
    "x_test_reduce300 = x_test[:300]\n",
    "y_test_reduce300 = y_test[:300]\n",
    "y_pred = knn_classifier.predict(x_test_reduce300,2)\n",
    "print(nb_classifier.accuracy(y_test_reduce300,y_pred))\n",
    "elapsed300 = timeit.default_timer() - start_time300\n",
    "print(elapsed300)"
   ]
  },
  {
   "cell_type": "code",
   "execution_count": 100,
   "metadata": {},
   "outputs": [
    {
     "name": "stdout",
     "output_type": "stream",
     "text": [
      "0.8525\n",
      "5.676385416998528\n"
     ]
    }
   ],
   "source": [
    "start_time400 = timeit.default_timer()\n",
    "knn_classifier.train(x_train,y_train)\n",
    "x_test_reduce400 = x_test[:400]\n",
    "y_test_reduce400 = y_test[:400]\n",
    "y_pred = knn_classifier.predict(x_test_reduce400,2)\n",
    "print(nb_classifier.accuracy(y_test_reduce400,y_pred))\n",
    "elapsed400 = timeit.default_timer() - start_time400\n",
    "print(elapsed400)"
   ]
  },
  {
   "cell_type": "code",
   "execution_count": 101,
   "metadata": {},
   "outputs": [
    {
     "name": "stdout",
     "output_type": "stream",
     "text": [
      "0.866\n",
      "6.834399291023146\n"
     ]
    }
   ],
   "source": [
    "start_time500 = timeit.default_timer()\n",
    "knn_classifier.train(x_train,y_train)\n",
    "x_test_reduce500 = x_test[:500]\n",
    "y_test_reduce500 = y_test[:500]\n",
    "y_pred = knn_classifier.predict(x_test_reduce500,2)\n",
    "print(nb_classifier.accuracy(y_test_reduce500,y_pred))\n",
    "elapsed500 = timeit.default_timer() - start_time500\n",
    "print(elapsed500)"
   ]
  },
  {
   "cell_type": "markdown",
   "metadata": {},
   "source": [
    "To conclude about this extension as we look at the times it takes to classify data points it becomes clear how truly efficient naive bayes is over knn. Classifying 15000 points for naive bayes was quicker than processing 100 for knn. With every increase in 100 points to classify, knn needs on average another 1 second to computes. To investigate further into runtimes, I looked at knn's predict function which presumably explains the bulk of its runtime. Knn uses a nested for loop in it's predict function one of the loops iterates over every sample rather in naive bayes which doesn't need any loops. The only loop is in the train class and iterates over every class feature, which in it's case was 4. To round off this extension I will present two graph which aim to illustrate the difference in runtimes for these two classifiers."
   ]
  },
  {
   "cell_type": "code",
   "execution_count": 104,
   "metadata": {},
   "outputs": [
    {
     "data": {
      "image/png": "[encoded data removed]",
      "text/plain": [
       "<Figure size 600x600 with 1 Axes>"
      ]
     },
     "metadata": {},
     "output_type": "display_data"
    }
   ],
   "source": [
    "knn_rt = [1.1498252500314265,2.2235337079619057,4.015748624980915,5.154872915998567,5.542208375001792]\n",
    "knn_numsamps = [100,200,300,400,500]\n",
    "\n",
    "plt.figure(figsize=(6,6))\n",
    "plt.plot(knn_numsamps, knn_rt)\n",
    "plt.xlabel('Number of Samples Classified')\n",
    "plt.ylabel('Time')\n",
    "plt.title('Time to process versus number of samples classified for Knn')\n",
    "plt.show()"
   ]
  },
  {
   "cell_type": "code",
   "execution_count": 105,
   "metadata": {},
   "outputs": [
    {
     "data": {
      "image/png": "[encoded data removed]",
      "text/plain": [
       "<Figure size 600x600 with 1 Axes>"
      ]
     },
     "metadata": {},
     "output_type": "display_data"
    }
   ],
   "source": [
    "nb_rt = [0.033494125003926456,0.023662000021431595,0.03893020795658231,0.027162957994733006,0.07640149997314438]\n",
    "nb_numsamps = [100,1000,5000,10000,15000]\n",
    "\n",
    "plt.figure(figsize=(6,6))\n",
    "plt.plot(nb_numsamps, nb_rt)\n",
    "plt.xlabel('Number of Samples Classified')\n",
    "plt.ylabel('Time')\n",
    "plt.title('Time versus number of samples classified for Naive Bayes')\n",
    "plt.show()"
   ]
  },
  {
   "cell_type": "markdown",
   "metadata": {},
   "source": [
    "### 3. Distance metrics\n",
    "For my second extension I compared the accuracy of computing euclidean distance versus manhattan distance. I'm going to hypothesize that the manhattan distance will result in a less accurate classification because it calculates distance less precisely, by just adding the x and y of a right triangle rather than finding the hypotenuse.\n",
    "\n",
    "For the experiment, I set up 2 knn classifiers, the first which will predict using euclidean distance and the second which will predict using manhattan distance. Let's see what results from the experiment"
   ]
  },
  {
   "cell_type": "code",
   "execution_count": 106,
   "metadata": {},
   "outputs": [
    {
     "name": "stdout",
     "output_type": "stream",
     "text": [
      "0.866\n"
     ]
    }
   ],
   "source": [
    "knn_classifier.train(x_train,y_train)\n",
    "x_test_reduce500 = x_test[:500]\n",
    "y_test_reduce500 = y_test[:500]\n",
    "y_pred = knn_classifier.predict(x_test_reduce500,2)\n",
    "print(nb_classifier.accuracy(y_test_reduce500,y_pred))\n"
   ]
  },
  {
   "cell_type": "code",
   "execution_count": 110,
   "metadata": {},
   "outputs": [
    {
     "name": "stdout",
     "output_type": "stream",
     "text": [
      "0.888\n"
     ]
    }
   ],
   "source": [
    "knn_classifier.train(x_train,y_train)\n",
    "x_test_reduce500 = x_test[:500]\n",
    "y_test_reduce500 = y_test[:500]\n",
    "y_pred = knn_classifier.predict_mahnattan(x_test_reduce500,2)\n",
    "print(nb_classifier.accuracy(y_test_reduce500,y_pred))\n"
   ]
  },
  {
   "cell_type": "markdown",
   "metadata": {},
   "source": [
    "These results were the opposite of what I expected. The euclidean distance was a similar time operation but had a worse accuracy. Instead manhattan won this bout with a 2% stronger accuracy. To conclude, I would urge other students or researchers to implement manhattan distance into their knn implementation. If not, then they should explain to me the downsides which I hyothesize to be some lack of precision in certain models. I'm guessing in datasets where points are close together. I also wonder which prediction distance calculation the built-in knn uses between euclidean and manhattan. It would be cool to know."
   ]
  }
 ],
 "metadata": {
  "kernelspec": {
   "display_name": "base",
   "language": "python",
   "name": "python3"
  },
  "language_info": {
   "codemirror_mode": {
    "name": "ipython",
    "version": 3
   },
   "file_extension": ".py",
   "mimetype": "text/x-python",
   "name": "python",
   "nbconvert_exporter": "python",
   "pygments_lexer": "ipython3",
   "version": "3.12.4"
  }
 },
 "nbformat": 4,
 "nbformat_minor": 4
}
